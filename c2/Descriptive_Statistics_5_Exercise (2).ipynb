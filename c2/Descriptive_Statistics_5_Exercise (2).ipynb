{
 "cells": [
  {
   "cell_type": "code",
   "execution_count": null,
   "id": "8a95012e",
   "metadata": {},
   "outputs": [],
   "source": [
    "###########################################################################"
   ]
  },
  {
   "cell_type": "code",
   "execution_count": null,
   "id": "bf9f4933",
   "metadata": {},
   "outputs": [],
   "source": [
    "# Introduction\n",
    "\n",
    "# This Jupyter notebook is part of your learning experience in the study of correlation\n",
    "# You will work with a simple data set that contains the expenditures and profits of a certain company\n",
    "\n",
    "# In this exercise, you will perform the following tasks:\n",
    "# 1 - Load and study the data\n",
    "# 2 - Visualise the relations between different types of company expenditures and the company's profits\n",
    "# 3 - Generate a correlation matrix for the given data and identify how to improve the company's spending trends"
   ]
  },
  {
   "cell_type": "code",
   "execution_count": null,
   "id": "bdfe4e95",
   "metadata": {},
   "outputs": [],
   "source": [
    "###########################################################################"
   ]
  },
  {
   "cell_type": "code",
   "execution_count": null,
   "id": "da15f289",
   "metadata": {},
   "outputs": [],
   "source": [
    "# Task 1 - Load and study the data\n",
    "\n",
    "# Load the data and study its features such as:\n",
    "# The various types of expenditures that the company makes\n",
    "# The months for which the specifics of the company's expenditures and profits are available\n",
    "# The profits earned by the company"
   ]
  },
  {
   "cell_type": "code",
   "execution_count": 1,
   "id": "33884073",
   "metadata": {},
   "outputs": [],
   "source": [
    "# Load \"numpy\" and \"pandas\" for manipulating numbers and data frames\n",
    "# Load \"matplotlib.pyplot\" and \"seaborn\" for data visualisation\n",
    "# Load \"scipy\" for scientific and mathematical methods\n",
    "import numpy as np\n",
    "import pandas as pd\n",
    "import matplotlib.pyplot as plt\n",
    "import seaborn as sns\n",
    "import scipy"
   ]
  },
  {
   "cell_type": "code",
   "execution_count": null,
   "id": "6da1963a",
   "metadata": {},
   "outputs": [],
   "source": [
    "# Read in the \"Company_Expenditure.csv\" file as a Pandas Data Frame\n",
    "# Note: Make sure the code and the data are in the same folder or specify the appropriate path\n",
    "df = pd.read_csv('Company_Expenditure (5).csv', index_col = 0)"
   ]
  },
  {
   "cell_type": "code",
   "execution_count": null,
   "id": "85e9af90",
   "metadata": {},
   "outputs": [],
   "source": [
    "# Take a brief look at the data using \".head()\"\n",
    "########## CODE HERE ##########"
   ]
  },
  {
   "cell_type": "code",
   "execution_count": null,
   "id": "8cbf5ba2",
   "metadata": {},
   "outputs": [],
   "source": [
    "# Study the description of the data\n",
    "# Note: Make sure the code and the data description are in the same folder or specify the appropriate path\n",
    "with open('Company_Expenditure_Feature_Description.txt', 'r') as f:\n",
    "    print(f.read())"
   ]
  },
  {
   "cell_type": "code",
   "execution_count": null,
   "id": "fa9b402e",
   "metadata": {},
   "outputs": [],
   "source": [
    "# Get the dimensions of the data frame using \".shape\"\n",
    "########## CODE HERE ##########"
   ]
  },
  {
   "cell_type": "code",
   "execution_count": null,
   "id": "8bf44620",
   "metadata": {},
   "outputs": [],
   "source": [
    "# Get the row names of the data frame using \".index\"\n",
    "########## CODE HERE ##########"
   ]
  },
  {
   "cell_type": "code",
   "execution_count": null,
   "id": "ef109aa2",
   "metadata": {},
   "outputs": [],
   "source": [
    "# Get the column names of the data frame using \".columns\"\n",
    "########## CODE HERE ##########"
   ]
  },
  {
   "cell_type": "code",
   "execution_count": null,
   "id": "03f1299b",
   "metadata": {},
   "outputs": [],
   "source": [
    "# Look at basic information about the data frame using \".info()\"\n",
    "########## CODE HERE ##########"
   ]
  },
  {
   "cell_type": "code",
   "execution_count": null,
   "id": "a2410b63",
   "metadata": {},
   "outputs": [],
   "source": [
    "# Observations\n",
    "\n",
    "# There are 24 rows and 4 columns in the data\n",
    "# Each row contains the specifics of the expenditures and the profits of the company in rupees for a certain month\n",
    "\n",
    "# The features in the data set are:\n",
    "# The amount spent by the company on marketing from Jan 2007 to Dec 2008\n",
    "# The amount spent by the company on human resources from Jan 2007 to Dec 2008\n",
    "# The amount spent by the company on infrastructure from Jan 2007 to Dec 2008\n",
    "# The profits earned by the company from Jan 2007 to Dec 2008"
   ]
  },
  {
   "cell_type": "code",
   "execution_count": null,
   "id": "6f1006e3",
   "metadata": {},
   "outputs": [],
   "source": [
    "###########################################################################"
   ]
  },
  {
   "cell_type": "code",
   "execution_count": null,
   "id": "8d53af90",
   "metadata": {},
   "outputs": [],
   "source": [
    "# Task 2 - Visualise the relation between different types of company expenditures and the company's profits\n",
    "\n",
    "# We will now visualize how various types of expenditures are related to the profits earned by the company\n",
    "# We will primarily do this using scatter plots"
   ]
  },
  {
   "cell_type": "code",
   "execution_count": null,
   "id": "58fb4d09",
   "metadata": {},
   "outputs": [],
   "source": [
    "# Create a scatter plot of the \"Marketing\" and the \"Profits\" features\n",
    "plt.figure(figsize = (8, 4), dpi= 100)\n",
    "sns.scatterplot(data = df, x = 'Marketing', y = 'Profits', alpha = 0.5, color = 'blue', edgecolor = 'linen')\n",
    "plt.title('Scatter Plot of Marketing Expenditure and Profits')\n",
    "plt.xlabel('Marketing Expenditure in rupees')\n",
    "plt.ylabel('Profits in rupees');"
   ]
  },
  {
   "cell_type": "code",
   "execution_count": null,
   "id": "a5cbd83b",
   "metadata": {},
   "outputs": [],
   "source": [
    "# Create a scatter plot of the \"Human Resources\" and the \"Profits\" features\n",
    "plt.figure(figsize = (8, 4), dpi= 100)\n",
    "sns.scatterplot(data = df, x = 'Human Resources', y = 'Profits', alpha = 0.5, color = 'blue', edgecolor = 'linen')\n",
    "plt.title('Scatter Plot of Human Resources Expenditure and Profits')\n",
    "plt.xlabel('Human Resources Expenditure in rupees')\n",
    "plt.ylabel('Profits in rupees');"
   ]
  },
  {
   "cell_type": "code",
   "execution_count": null,
   "id": "350911bf",
   "metadata": {},
   "outputs": [],
   "source": [
    "# Create a scatter plot of the \"Infrastructure\" and the \"Profits\" features\n",
    "plt.figure(figsize = (8, 4), dpi= 100)\n",
    "sns.scatterplot(data = df, x = 'Infrastructure', y = 'Profits', alpha = 0.5, color = 'blue', edgecolor = 'linen')\n",
    "plt.title('Scatter Plot of Infrastructure Expenditure and Profits')\n",
    "plt.xlabel('Infrastructure Expenditure in rupees')\n",
    "plt.ylabel('Profits in rupees');"
   ]
  },
  {
   "cell_type": "code",
   "execution_count": null,
   "id": "c6ca0247",
   "metadata": {},
   "outputs": [],
   "source": [
    "# Create a pair plot of all the features in the data frame\n",
    "sns.pairplot(df);"
   ]
  },
  {
   "cell_type": "code",
   "execution_count": null,
   "id": "ec18abe5",
   "metadata": {},
   "outputs": [],
   "source": [
    "# Observations\n",
    "\n",
    "# There is a clear positive trend between marketing expenditure and profits\n",
    "# There is some kind of positive trend between infrastructure expenditure and profits\n",
    "# There doesn't seem to be any discernible trend between human resources expenditure and profits"
   ]
  },
  {
   "cell_type": "code",
   "execution_count": null,
   "id": "ebe2af63",
   "metadata": {},
   "outputs": [],
   "source": [
    "###########################################################################"
   ]
  },
  {
   "cell_type": "code",
   "execution_count": null,
   "id": "81c87cd0",
   "metadata": {},
   "outputs": [],
   "source": [
    "# Task 3 - Generate a correlation matrix for the given data and identify how to improve the company's spending trends\n",
    "\n",
    "# We will now quantify the relation between the various types of expenditures and the company's profits using correlation\n",
    "# We will primarily be using Pearson's correlation coefficient as a measure of correlation between features"
   ]
  },
  {
   "cell_type": "code",
   "execution_count": null,
   "id": "e53a6e5c",
   "metadata": {},
   "outputs": [],
   "source": [
    "# Calculate Pearson's correlation coefficient between the \"Marketing\" and the \"Profits\" features using \"scipy\"\n",
    "# Note: Use the command \"scipy.stats.pearsonr(feature1, feature2)\" to find the correlation between \"feature1\" and \"feature2\"\n",
    "# Note: The first value in the tuple that is returned is the Pearson's correltaion coefficient for these two features\n",
    "# Note: You can ignore the second value in the tuple for now as it has more importance in inferential statistics\n",
    "########## CODE HERE ##########"
   ]
  },
  {
   "cell_type": "code",
   "execution_count": null,
   "id": "cf8ca32c",
   "metadata": {},
   "outputs": [],
   "source": [
    "# Calculate Pearson's correlation coefficient between the \"Human Resources\" and the \"Profits\" features using \"scipy\"\n",
    "########## CODE HERE ##########"
   ]
  },
  {
   "cell_type": "code",
   "execution_count": null,
   "id": "4989e33f",
   "metadata": {},
   "outputs": [],
   "source": [
    "# Calculate Pearson's correlation coefficient between the \"Infrastructure\" and the \"Profits\" features using \"scipy\"\n",
    "########## CODE HERE ##########"
   ]
  },
  {
   "cell_type": "code",
   "execution_count": null,
   "id": "37b5cdf1",
   "metadata": {},
   "outputs": [],
   "source": [
    "# Calculate Pearson's correlation coefficient between the \"Marketing\" and the \"Profits\" features using \"numpy\"\n",
    "# Note: Use the command \"np.corrcoef(feature1, feature2)\" to find the correlation between \"feature1\" and \"feature2\"\n",
    "\n",
    "# A correlation matrix is returned which contains the following:\n",
    "# Element (0, 0) contains correlation of \"Marketing\" with itself\n",
    "# Element (0, 1) contains correlation of \"Marketing\" with \"Profits\"\n",
    "# Element (1, 0) contains correlation of \"Profits\" with \"Marketing\"\n",
    "# ELement (1, 1) contains correlation of \"Profits\" with itself\n",
    "\n",
    "# Note: Any feature will always be fully positively correlated with itself, so that value will be 1, and can be ignored\n",
    "# Note: Correlation between two features is a commutative operation\n",
    "\n",
    "# Elements (0, 1) and (1, 0) contain the correlation value between the \"Marketing\" and the \"Profits\" features\n",
    "# Extract either the second element of the first row or the first element of the second row\n",
    "########## CODE HERE ##########"
   ]
  },
  {
   "cell_type": "code",
   "execution_count": null,
   "id": "5b5475aa",
   "metadata": {},
   "outputs": [],
   "source": [
    "# Calculate Pearson's correlation coefficient between the \"Human Resources\" and the \"Profits\" features using \"numpy\"\n",
    "########## CODE HERE ##########"
   ]
  },
  {
   "cell_type": "code",
   "execution_count": null,
   "id": "7f978a62",
   "metadata": {},
   "outputs": [],
   "source": [
    "# Calculate Pearson's correlation coefficient between the \"Infrastructure\" and the \"Profits\" features using \"numpy\"\n",
    "########## CODE HERE ##########"
   ]
  },
  {
   "cell_type": "code",
   "execution_count": null,
   "id": "82d8efad",
   "metadata": {},
   "outputs": [],
   "source": [
    "# Calculate the correlation matrix for the data frame using \"pandas\"\n",
    "# Note: Use the \"df.corr()\" command\n",
    "########## CODE HERE ##########"
   ]
  },
  {
   "cell_type": "code",
   "execution_count": null,
   "id": "867e3fb8",
   "metadata": {},
   "outputs": [],
   "source": [
    "# Create a heat map of all the features in the data frame\n",
    "sns.heatmap(df.corr(), annot = True, cmap = 'Reds');"
   ]
  },
  {
   "cell_type": "code",
   "execution_count": null,
   "id": "42d71ac1",
   "metadata": {},
   "outputs": [],
   "source": [
    "# Print a sorted series of the correlation values of all expenditure features with the \"Profits\" feature\n",
    "# Note: Extract the \"Profits\" column from the data frame returned by the \"df.corr()\" command and slice it\n",
    "# Note: Since we know that \"Profits\" will be fully positively correlated with \"Profits\", we can skip that value\n",
    "# Note: Sort the correlation values in descending order\n",
    "########## CODE HERE ##########"
   ]
  },
  {
   "cell_type": "code",
   "execution_count": null,
   "id": "71883fba",
   "metadata": {},
   "outputs": [],
   "source": [
    "# Observations\n",
    "\n",
    "# As you go through the following line of inference, please remember that correlation does not imply causation\n",
    "\n",
    "# The \"Marketing\" feature has a very high degree of positive correlation with the \"Profits\" feature\n",
    "# The correlation value is about 0.94\n",
    "# It appears that if the company spends more on marketing, their profits will be more\n",
    "# The correlation value is very high, and the company need not change the way they spend on marketing\n",
    "\n",
    "# The \"Infrastructure\" feature is moderately positively correlated with the \"Profits\" feature\n",
    "# The correlation value is about 0.52\n",
    "# There appears to be some amount of positive correlation between the amount spent on infrastructure and the profits\n",
    "# Since the correlation value is moderately positive, the company could try to improve the way they spend on infrastructure\n",
    "\n",
    "# The \"Human Resources\" feature doesn't seem to be correlated with the \"Profits\" feature\n",
    "# The correlation value is about -0.05\n",
    "# There appears to be almost no correlation between the amount spend on human resources and the profits\n",
    "# The correlation value is nearly 0, and this should alarm the company management\n",
    "# The company could choose to conduct a thorough audit and review of the way the spend on human resources"
   ]
  },
  {
   "cell_type": "code",
   "execution_count": null,
   "id": "5e533437",
   "metadata": {},
   "outputs": [],
   "source": [
    "###########################################################################"
   ]
  },
  {
   "cell_type": "code",
   "execution_count": null,
   "id": "1c89aa88",
   "metadata": {},
   "outputs": [],
   "source": [
    "# Conclusions\n",
    "\n",
    "# The correlation coefficient is a very useful exploratory statistic\n",
    "# It helps to quickly identify relationships between features\n",
    "# Correlation does not imply causation, but causation surely implies correlation\n",
    "# If correlation values are not as expected, then we can use that as a sign that more investigation is required\n",
    "# Such analyses helps in many different real world scenarios for decision making"
   ]
  },
  {
   "cell_type": "code",
   "execution_count": null,
   "id": "92f388c2",
   "metadata": {},
   "outputs": [],
   "source": [
    "###########################################################################"
   ]
  }
 ],
 "metadata": {
  "kernelspec": {
   "display_name": "Python 3",
   "language": "python",
   "name": "python3"
  },
  "language_info": {
   "codemirror_mode": {
    "name": "ipython",
    "version": 3
   },
   "file_extension": ".py",
   "mimetype": "text/x-python",
   "name": "python",
   "nbconvert_exporter": "python",
   "pygments_lexer": "ipython3",
   "version": "3.13.4"
  }
 },
 "nbformat": 4,
 "nbformat_minor": 5
}
