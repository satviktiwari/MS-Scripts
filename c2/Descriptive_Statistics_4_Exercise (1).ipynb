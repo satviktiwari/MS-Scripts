{
  "cells": [
    {
      "cell_type": "code",
      "execution_count": null,
      "id": "8a95012e",
      "metadata": {
        "id": "8a95012e"
      },
      "outputs": [],
      "source": [
        "###########################################################################"
      ]
    },
    {
      "cell_type": "code",
      "execution_count": null,
      "id": "bf9f4933",
      "metadata": {
        "id": "bf9f4933"
      },
      "outputs": [],
      "source": [
        "# Introduction\n",
        "\n",
        "# This Jupyter notebook is part of your learning experience in the study of variability\n",
        "# You will work with a simple data set that contains the investment returns of different agencies\n",
        "\n",
        "# In this exercise, you will perform the following tasks:\n",
        "# 1 - Load and study the data\n",
        "# 2 - View the distributions of the various features in the data set and also calculate various measures of dispersion\n",
        "# 3 - Create a data frame to compare the variability in the investment returns of the different agencies"
      ]
    },
    {
      "cell_type": "code",
      "execution_count": null,
      "id": "bdfe4e95",
      "metadata": {
        "id": "bdfe4e95"
      },
      "outputs": [],
      "source": [
        "###########################################################################"
      ]
    },
    {
      "cell_type": "code",
      "execution_count": null,
      "id": "da15f289",
      "metadata": {
        "id": "da15f289"
      },
      "outputs": [],
      "source": [
        "# Task 1 - Load and study the data\n",
        "\n",
        "# Load the data and study its features such as:\n",
        "# The years for which investment returns have been recorded\n",
        "# The number of agencies whose data is available"
      ]
    },
    {
      "cell_type": "code",
      "execution_count": 1,
      "id": "33884073",
      "metadata": {
        "id": "33884073"
      },
      "outputs": [],
      "source": [
        "# Load \"numpy\" and \"pandas\" for manipulating numbers and data frames\n",
        "# Load \"matplotlib.pyplot\" and \"seaborn\" for data visualisation\n",
        "import numpy as np\n",
        "import pandas as pd\n",
        "import matplotlib.pyplot as plt\n",
        "import seaborn as sns"
      ]
    },
    {
      "cell_type": "code",
      "execution_count": 2,
      "id": "6da1963a",
      "metadata": {
        "id": "6da1963a"
      },
      "outputs": [],
      "source": [
        "# Read in the \"Investment_Returns.csv\" file as a Pandas Data Frame\n",
        "# Note: Make sure the code and the data are in the same folder or specify the appropriate path\n",
        "df = pd.read_csv('Investment_Returns.csv', index_col = 0)"
      ]
    },
    {
      "cell_type": "code",
      "execution_count": 3,
      "id": "85e9af90",
      "metadata": {
        "id": "85e9af90"
      },
      "outputs": [
        {
          "data": {
            "text/html": [
              "<div>\n",
              "<style scoped>\n",
              "    .dataframe tbody tr th:only-of-type {\n",
              "        vertical-align: middle;\n",
              "    }\n",
              "\n",
              "    .dataframe tbody tr th {\n",
              "        vertical-align: top;\n",
              "    }\n",
              "\n",
              "    .dataframe thead th {\n",
              "        text-align: right;\n",
              "    }\n",
              "</style>\n",
              "<table border=\"1\" class=\"dataframe\">\n",
              "  <thead>\n",
              "    <tr style=\"text-align: right;\">\n",
              "      <th></th>\n",
              "      <th>George and Wallace</th>\n",
              "      <th>Imperial Traders</th>\n",
              "      <th>High Rise</th>\n",
              "    </tr>\n",
              "    <tr>\n",
              "      <th>Year</th>\n",
              "      <th></th>\n",
              "      <th></th>\n",
              "      <th></th>\n",
              "    </tr>\n",
              "  </thead>\n",
              "  <tbody>\n",
              "    <tr>\n",
              "      <th>2001</th>\n",
              "      <td>12.6</td>\n",
              "      <td>-5.6</td>\n",
              "      <td>8.5</td>\n",
              "    </tr>\n",
              "    <tr>\n",
              "      <th>2002</th>\n",
              "      <td>7.4</td>\n",
              "      <td>8.7</td>\n",
              "      <td>6.3</td>\n",
              "    </tr>\n",
              "    <tr>\n",
              "      <th>2003</th>\n",
              "      <td>-12.6</td>\n",
              "      <td>13.0</td>\n",
              "      <td>-3.2</td>\n",
              "    </tr>\n",
              "    <tr>\n",
              "      <th>2004</th>\n",
              "      <td>-5.8</td>\n",
              "      <td>-6.4</td>\n",
              "      <td>-3.9</td>\n",
              "    </tr>\n",
              "    <tr>\n",
              "      <th>2005</th>\n",
              "      <td>9.2</td>\n",
              "      <td>10.7</td>\n",
              "      <td>6.0</td>\n",
              "    </tr>\n",
              "  </tbody>\n",
              "</table>\n",
              "</div>"
            ],
            "text/plain": [
              "      George and Wallace  Imperial Traders  High Rise\n",
              "Year                                                 \n",
              "2001                12.6              -5.6        8.5\n",
              "2002                 7.4               8.7        6.3\n",
              "2003               -12.6              13.0       -3.2\n",
              "2004                -5.8              -6.4       -3.9\n",
              "2005                 9.2              10.7        6.0"
            ]
          },
          "execution_count": 3,
          "metadata": {},
          "output_type": "execute_result"
        }
      ],
      "source": [
        "# Take a brief look at the data using \".head()\"\n",
        "########## CODE HERE ##########\n",
        "df.head()"
      ]
    },
    {
      "cell_type": "code",
      "execution_count": null,
      "id": "8cbf5ba2",
      "metadata": {
        "id": "8cbf5ba2"
      },
      "outputs": [],
      "source": [
        "# Study the description of the data\n",
        "# Note: Make sure the code and the data description are in the same folder or specify the appropriate path\n",
        "with open('Investment_Returns_Feature_Description.txt', 'r') as f:\n",
        "    print(f.read())"
      ]
    },
    {
      "cell_type": "code",
      "execution_count": 4,
      "id": "fa9b402e",
      "metadata": {
        "id": "fa9b402e"
      },
      "outputs": [
        {
          "data": {
            "text/plain": [
              "(20, 3)"
            ]
          },
          "execution_count": 4,
          "metadata": {},
          "output_type": "execute_result"
        }
      ],
      "source": [
        "# Get the dimensions of the data frame using \".shape\"\n",
        "########## CODE HERE ##########\n",
        "df.shape"
      ]
    },
    {
      "cell_type": "code",
      "execution_count": 5,
      "id": "8bf44620",
      "metadata": {
        "id": "8bf44620"
      },
      "outputs": [
        {
          "data": {
            "text/plain": [
              "Index([2001, 2002, 2003, 2004, 2005, 2006, 2007, 2008, 2009, 2010, 2011, 2012,\n",
              "       2013, 2014, 2015, 2016, 2017, 2018, 2019, 2020],\n",
              "      dtype='int64', name='Year')"
            ]
          },
          "execution_count": 5,
          "metadata": {},
          "output_type": "execute_result"
        }
      ],
      "source": [
        "# Get the row names of the data frame using \".index\"\n",
        "########## CODE HERE ##########\n",
        "df.index"
      ]
    },
    {
      "cell_type": "code",
      "execution_count": 6,
      "id": "ef109aa2",
      "metadata": {
        "id": "ef109aa2"
      },
      "outputs": [
        {
          "data": {
            "text/plain": [
              "Index(['George and Wallace', 'Imperial Traders', 'High Rise'], dtype='object')"
            ]
          },
          "execution_count": 6,
          "metadata": {},
          "output_type": "execute_result"
        }
      ],
      "source": [
        "# Get the column names of the data frame using \".columns\"\n",
        "########## CODE HERE ##########\n",
        "df.columns"
      ]
    },
    {
      "cell_type": "code",
      "execution_count": 7,
      "id": "03f1299b",
      "metadata": {
        "id": "03f1299b"
      },
      "outputs": [
        {
          "name": "stdout",
          "output_type": "stream",
          "text": [
            "<class 'pandas.core.frame.DataFrame'>\n",
            "Index: 20 entries, 2001 to 2020\n",
            "Data columns (total 3 columns):\n",
            " #   Column              Non-Null Count  Dtype  \n",
            "---  ------              --------------  -----  \n",
            " 0   George and Wallace  20 non-null     float64\n",
            " 1   Imperial Traders    20 non-null     float64\n",
            " 2   High Rise           20 non-null     float64\n",
            "dtypes: float64(3)\n",
            "memory usage: 640.0 bytes\n"
          ]
        }
      ],
      "source": [
        "# Look at basic information about the data frame using \".info()\"\n",
        "########## CODE HERE ##########\n",
        "df.info()"
      ]
    },
    {
      "cell_type": "code",
      "execution_count": null,
      "id": "a2410b63",
      "metadata": {
        "id": "a2410b63"
      },
      "outputs": [],
      "source": [
        "# Observations\n",
        "\n",
        "# There are 20 rows and 3 columns in the data\n",
        "# Each row contains the investment return percentages of three different agencies for a certain year\n",
        "\n",
        "# The features in the data set are:\n",
        "# The investment return percentage from the agency \"George and Wallace\" for the years 2001 to 2020\n",
        "# The investment return percentage from the agency \"Imperial Traders\" for the years 2001 to 2020\n",
        "# The investment return percentage from the agency \"High Rise\" for the years 2001 to 2020"
      ]
    },
    {
      "cell_type": "code",
      "execution_count": null,
      "id": "6f1006e3",
      "metadata": {
        "id": "6f1006e3"
      },
      "outputs": [],
      "source": [
        "###########################################################################"
      ]
    },
    {
      "cell_type": "code",
      "execution_count": null,
      "id": "abb0e4b1",
      "metadata": {
        "id": "abb0e4b1"
      },
      "outputs": [],
      "source": [
        "# Task 2 - View the distributions of the various features in the data set and also calculate various measures of dispersion\n",
        "\n",
        "# We will now calculate relevant statistical measures of central tendency and dispersion for each of the agencies\n",
        "# We will also view their investment returns distributions to get a sense of the spread of the values"
      ]
    },
    {
      "cell_type": "code",
      "execution_count": 8,
      "id": "0986a421",
      "metadata": {
        "id": "0986a421"
      },
      "outputs": [
        {
          "data": {
            "text/plain": [
              "np.float64(4.0)"
            ]
          },
          "execution_count": 8,
          "metadata": {},
          "output_type": "execute_result"
        }
      ],
      "source": [
        "# Calculate the mean of the \"George and Wallace\" feature using \".mean()\"\n",
        "########## CODE HERE ##########\n",
        "\n",
        "df['George and Wallace'].mean()"
      ]
    },
    {
      "cell_type": "code",
      "execution_count": 9,
      "id": "162420ac",
      "metadata": {
        "id": "162420ac"
      },
      "outputs": [
        {
          "data": {
            "text/plain": [
              "np.float64(5.45)"
            ]
          },
          "execution_count": 9,
          "metadata": {},
          "output_type": "execute_result"
        }
      ],
      "source": [
        "# Calculate the median of the \"George and Wallace\" feature using \".median()\"\n",
        "########## CODE HERE ##########\n",
        "df['George and Wallace'].median()"
      ]
    },
    {
      "cell_type": "code",
      "execution_count": 10,
      "id": "350911bf",
      "metadata": {
        "id": "350911bf"
      },
      "outputs": [
        {
          "data": {
            "image/png": "[encoded data removed]",
            "text/plain": [
              "<Figure size 600x300 with 1 Axes>"
            ]
          },
          "metadata": {},
          "output_type": "display_data"
        }
      ],
      "source": [
        "# Create a histogram of the \"George and Wallace\" feature and also show the mean and the median\n",
        "plt.figure(figsize = (6, 3), dpi= 100)\n",
        "sns.histplot(data = df, x = 'George and Wallace', color = 'orange', edgecolor = 'linen', alpha = 0.5, bins = 5)\n",
        "plt.vlines(x = df['George and Wallace'].mean(), ymin = 0, ymax = 6, colors = 'blue', label = 'Mean')\n",
        "plt.vlines(x = df['George and Wallace'].median(), ymin = 0, ymax = 6, colors = 'red', label = 'Median')\n",
        "plt.xlim(-20, 20)\n",
        "plt.title('Histogram of Investment Returns for George and Wallace')\n",
        "plt.xlabel('Percent Return in Investment')\n",
        "plt.ylabel('Count')\n",
        "plt.legend();"
      ]
    },
    {
      "cell_type": "code",
      "execution_count": 11,
      "id": "4fe64008",
      "metadata": {
        "id": "4fe64008"
      },
      "outputs": [
        {
          "data": {
            "text/plain": [
              "np.float64(35.5)"
            ]
          },
          "execution_count": 11,
          "metadata": {},
          "output_type": "execute_result"
        }
      ],
      "source": [
        "# Calculate the range of the \"George and Wallace\" feature using \".min()\" and \".max\"\n",
        "# Note: The range is equal to the difference between the maximum and minimum value in a data series\n",
        "########## CODE HERE ##########\n",
        "\n",
        "df['George and Wallace'].max() - df['George and Wallace'].min()"
      ]
    },
    {
      "cell_type": "code",
      "execution_count": 12,
      "id": "d1d3fcf0",
      "metadata": {
        "id": "d1d3fcf0"
      },
      "outputs": [
        {
          "ename": "AttributeError",
          "evalue": "'Series' object has no attribute 'mad'",
          "output_type": "error",
          "traceback": [
            "\u001b[31m---------------------------------------------------------------------------\u001b[39m",
            "\u001b[31mAttributeError\u001b[39m                            Traceback (most recent call last)",
            "\u001b[32m~\\AppData\\Local\\Temp\\ipykernel_26560\\1806821449.py\u001b[39m in \u001b[36m?\u001b[39m\u001b[34m()\u001b[39m\n\u001b[32m      1\u001b[39m \u001b[38;5;66;03m# Calculate the mean deviation about the mean for the \"George and Wallace\" feature\u001b[39;00m\n\u001b[32m      2\u001b[39m \u001b[38;5;66;03m########## CODE HERE ##########\u001b[39;00m\n\u001b[32m      3\u001b[39m \n\u001b[32m----> \u001b[39m\u001b[32m4\u001b[39m df[\u001b[33m'George and Wallace'\u001b[39m].mad()\n",
            "\u001b[32m~\\AppData\\Roaming\\Python\\Python313\\site-packages\\pandas\\core\\generic.py\u001b[39m in \u001b[36m?\u001b[39m\u001b[34m(self, name)\u001b[39m\n\u001b[32m   6314\u001b[39m             \u001b[38;5;28;01mand\u001b[39;00m name \u001b[38;5;28;01mnot\u001b[39;00m \u001b[38;5;28;01min\u001b[39;00m self._accessors\n\u001b[32m   6315\u001b[39m             \u001b[38;5;28;01mand\u001b[39;00m self._info_axis._can_hold_identifiers_and_holds_name(name)\n\u001b[32m   6316\u001b[39m         ):\n\u001b[32m   6317\u001b[39m             \u001b[38;5;28;01mreturn\u001b[39;00m self[name]\n\u001b[32m-> \u001b[39m\u001b[32m6318\u001b[39m         \u001b[38;5;28;01mreturn\u001b[39;00m object.__getattribute__(self, name)\n",
            "\u001b[31mAttributeError\u001b[39m: 'Series' object has no attribute 'mad'"
          ]
        }
      ],
      "source": [
        "# Calculate the mean deviation about the mean for the \"George and Wallace\" feature\n",
        "########## CODE HERE ##########\n",
        "\n",
        "df['George and Wallace'].mad()"
      ]
    },
    {
      "cell_type": "code",
      "execution_count": 13,
      "id": "b16e3047",
      "metadata": {
        "id": "b16e3047"
      },
      "outputs": [
        {
          "data": {
            "text/plain": [
              "np.float64(90.11157894736843)"
            ]
          },
          "execution_count": 13,
          "metadata": {},
          "output_type": "execute_result"
        }
      ],
      "source": [
        "# Calculate the variance for the \"George and Wallace\" feature using \".var()\"\n",
        "########## CODE HERE ##########\n",
        "\n",
        "df['George and Wallace'].var()"
      ]
    },
    {
      "cell_type": "code",
      "execution_count": 14,
      "id": "7bfc3ce2",
      "metadata": {
        "id": "7bfc3ce2"
      },
      "outputs": [
        {
          "data": {
            "text/plain": [
              "np.float64(9.492711885829488)"
            ]
          },
          "execution_count": 14,
          "metadata": {},
          "output_type": "execute_result"
        }
      ],
      "source": [
        "# Calculate the standard deviation for the \"George and Wallace\" feature using \".std()\"\n",
        "########## CODE HERE ##########\n",
        "\n",
        "df['George and Wallace'].std()\n"
      ]
    },
    {
      "cell_type": "code",
      "execution_count": 15,
      "id": "f84bb463",
      "metadata": {
        "id": "f84bb463"
      },
      "outputs": [
        {
          "data": {
            "text/plain": [
              "np.float64(4.0)"
            ]
          },
          "execution_count": 15,
          "metadata": {},
          "output_type": "execute_result"
        }
      ],
      "source": [
        "# Calculate the mean of the \"Imperial Traders\" feature using \".mean()\"\n",
        "########## CODE HERE ##########\n",
        "df['Imperial Traders'].mean()"
      ]
    },
    {
      "cell_type": "code",
      "execution_count": 16,
      "id": "6315802d",
      "metadata": {
        "id": "6315802d"
      },
      "outputs": [
        {
          "data": {
            "text/plain": [
              "np.float64(7.65)"
            ]
          },
          "execution_count": 16,
          "metadata": {},
          "output_type": "execute_result"
        }
      ],
      "source": [
        "# Calculate the median of the \"Imperial Traders\" feature using \".median()\"\n",
        "########## CODE HERE ##########\n",
        "df['Imperial Traders'].median()"
      ]
    },
    {
      "cell_type": "code",
      "execution_count": 17,
      "id": "9f9fa5f5",
      "metadata": {
        "id": "9f9fa5f5"
      },
      "outputs": [
        {
          "data": {
            "image/png": "[encoded data removed]",
            "text/plain": [
              "<Figure size 600x300 with 1 Axes>"
            ]
          },
          "metadata": {},
          "output_type": "display_data"
        }
      ],
      "source": [
        "# Create a histogram of the \"Imperial Traders\" feature and also show the mean and the median\n",
        "plt.figure(figsize = (6, 3), dpi= 100)\n",
        "sns.histplot(data = df, x = 'Imperial Traders', color = 'orange', edgecolor = 'linen', alpha = 0.5, bins = 5)\n",
        "plt.vlines(x = df['Imperial Traders'].mean(), ymin = 0, ymax = 9, colors = 'blue', label = 'Mean')\n",
        "plt.vlines(x = df['Imperial Traders'].median(), ymin = 0, ymax = 9, colors = 'red', label = 'Median')\n",
        "plt.xlim(-20, 20)\n",
        "plt.title('Histogram of Investment Returns for Imperial Traders')\n",
        "plt.xlabel('Percent Return in Investment')\n",
        "plt.ylabel('Count')\n",
        "plt.legend();"
      ]
    },
    {
      "cell_type": "code",
      "execution_count": 18,
      "id": "fde0b601",
      "metadata": {
        "id": "fde0b601"
      },
      "outputs": [
        {
          "data": {
            "text/plain": [
              "np.float64(25.299999999999997)"
            ]
          },
          "execution_count": 18,
          "metadata": {},
          "output_type": "execute_result"
        }
      ],
      "source": [
        "# Calculate the range of the \"Imperial Traders\" feature using \".min()\" and \".max\"\n",
        "# Note: The range is equal to the difference between the maximum and minimum value in a data series\n",
        "########## CODE HERE ##########\n",
        "\n",
        "df['Imperial Traders'].max() - df['Imperial Traders'].min()\n"
      ]
    },
    {
      "cell_type": "code",
      "execution_count": 31,
      "id": "69a2d63e",
      "metadata": {
        "id": "69a2d63e"
      },
      "outputs": [
        {
          "data": {
            "text/plain": [
              "np.float64(7.23)"
            ]
          },
          "execution_count": 31,
          "metadata": {},
          "output_type": "execute_result"
        }
      ],
      "source": [
        "# Calculate the mean deviation about the mean for the \"Imperial Traders\" feature\n",
        "########## CODE HERE ##########\n",
        "\n",
        "mad_imperial = abs(df['Imperial Traders'] - df['Imperial Traders'].mean()).mean()\n",
        "round(mad_imperial, 2)"
      ]
    },
    {
      "cell_type": "code",
      "execution_count": 20,
      "id": "9948e37a",
      "metadata": {
        "id": "9948e37a"
      },
      "outputs": [
        {
          "data": {
            "text/plain": [
              "np.float64(63.66526315789473)"
            ]
          },
          "execution_count": 20,
          "metadata": {},
          "output_type": "execute_result"
        }
      ],
      "source": [
        "# Calculate the variance for the \"Imperial Traders\" feature using \".var()\"\n",
        "########## CODE HERE ##########\n",
        "\n",
        "df['Imperial Traders'].var()\n"
      ]
    },
    {
      "cell_type": "code",
      "execution_count": 21,
      "id": "d17938fb",
      "metadata": {
        "id": "d17938fb"
      },
      "outputs": [
        {
          "data": {
            "text/plain": [
              "np.float64(7.9790515199423755)"
            ]
          },
          "execution_count": 21,
          "metadata": {},
          "output_type": "execute_result"
        }
      ],
      "source": [
        "# Calculate the standard deviation for the \"Imperial Traders\" feature using \".std()\"\n",
        "########## CODE HERE ##########\n",
        "df['Imperial Traders'].std()"
      ]
    },
    {
      "cell_type": "code",
      "execution_count": 22,
      "id": "9a6c0a1a",
      "metadata": {
        "id": "9a6c0a1a"
      },
      "outputs": [
        {
          "data": {
            "text/plain": [
              "np.float64(3.999999999999999)"
            ]
          },
          "execution_count": 22,
          "metadata": {},
          "output_type": "execute_result"
        }
      ],
      "source": [
        "# Calculate the mean of the \"High Rise\" feature using \".mean()\"\n",
        "########## CODE HERE ##########\n",
        "\n",
        "df['High Rise'].mean()"
      ]
    },
    {
      "cell_type": "code",
      "execution_count": 23,
      "id": "e3ea895b",
      "metadata": {
        "id": "e3ea895b"
      },
      "outputs": [
        {
          "data": {
            "text/plain": [
              "np.float64(6.55)"
            ]
          },
          "execution_count": 23,
          "metadata": {},
          "output_type": "execute_result"
        }
      ],
      "source": [
        "# Calculate the median of the \"High Rise\" feature using \".median()\"\n",
        "########## CODE HERE ##########\n",
        "\n",
        "df['High Rise'].median()\n"
      ]
    },
    {
      "cell_type": "code",
      "execution_count": 24,
      "id": "72da461a",
      "metadata": {
        "id": "72da461a"
      },
      "outputs": [
        {
          "data": {
            "image/png": "[encoded data removed]",
            "text/plain": [
              "<Figure size 600x300 with 1 Axes>"
            ]
          },
          "metadata": {},
          "output_type": "display_data"
        }
      ],
      "source": [
        "# Create a histogram of the \"High Rise\" feature and also show the mean and the median\n",
        "plt.figure(figsize = (6, 3), dpi= 100)\n",
        "sns.histplot(data = df, x = 'High Rise', color = 'orange', edgecolor = 'linen', alpha = 0.5, bins = 5)\n",
        "plt.vlines(x = df['High Rise'].mean(), ymin = 0, ymax = 10, colors = 'blue', label = 'Mean')\n",
        "plt.vlines(x = df['High Rise'].median(), ymin = 0, ymax = 10, colors = 'red', label = 'Median')\n",
        "plt.xlim(-20, 20)\n",
        "plt.title('Histogram of Investment Returns for High Rise')\n",
        "plt.xlabel('Percent Return in Investment')\n",
        "plt.ylabel('Count')\n",
        "plt.legend();"
      ]
    },
    {
      "cell_type": "code",
      "execution_count": 25,
      "id": "92d46853",
      "metadata": {
        "id": "92d46853"
      },
      "outputs": [
        {
          "data": {
            "text/plain": [
              "np.float64(14.100000000000001)"
            ]
          },
          "execution_count": 25,
          "metadata": {},
          "output_type": "execute_result"
        }
      ],
      "source": [
        "# Calculate the range of the \"High Rise\" feature using \".min()\" and \".max\"\n",
        "# Note: The range is equal to the difference between the maximum and minimum value in a data series\n",
        "########## CODE HERE ##########\n",
        "\n",
        "df['High Rise'].max() - df['High Rise'].min()\n"
      ]
    },
    {
      "cell_type": "code",
      "execution_count": 26,
      "id": "d05d99a5",
      "metadata": {
        "id": "d05d99a5"
      },
      "outputs": [
        {
          "ename": "AttributeError",
          "evalue": "'Series' object has no attribute 'mad'",
          "output_type": "error",
          "traceback": [
            "\u001b[31m---------------------------------------------------------------------------\u001b[39m",
            "\u001b[31mAttributeError\u001b[39m                            Traceback (most recent call last)",
            "\u001b[32m~\\AppData\\Local\\Temp\\ipykernel_26560\\1992894451.py\u001b[39m in \u001b[36m?\u001b[39m\u001b[34m()\u001b[39m\n\u001b[32m      1\u001b[39m \u001b[38;5;66;03m# Calculate the mean deviation about the mean for the \"High Rise\" feature using\u001b[39;00m\n\u001b[32m      2\u001b[39m \u001b[38;5;66;03m########## CODE HERE ##########\u001b[39;00m\n\u001b[32m      3\u001b[39m \n\u001b[32m----> \u001b[39m\u001b[32m4\u001b[39m df[\u001b[33m'High Rise'\u001b[39m].mad()\n",
            "\u001b[32m~\\AppData\\Roaming\\Python\\Python313\\site-packages\\pandas\\core\\generic.py\u001b[39m in \u001b[36m?\u001b[39m\u001b[34m(self, name)\u001b[39m\n\u001b[32m   6314\u001b[39m             \u001b[38;5;28;01mand\u001b[39;00m name \u001b[38;5;28;01mnot\u001b[39;00m \u001b[38;5;28;01min\u001b[39;00m self._accessors\n\u001b[32m   6315\u001b[39m             \u001b[38;5;28;01mand\u001b[39;00m self._info_axis._can_hold_identifiers_and_holds_name(name)\n\u001b[32m   6316\u001b[39m         ):\n\u001b[32m   6317\u001b[39m             \u001b[38;5;28;01mreturn\u001b[39;00m self[name]\n\u001b[32m-> \u001b[39m\u001b[32m6318\u001b[39m         \u001b[38;5;28;01mreturn\u001b[39;00m object.__getattribute__(self, name)\n",
            "\u001b[31mAttributeError\u001b[39m: 'Series' object has no attribute 'mad'"
          ]
        }
      ],
      "source": [
        "# Calculate the mean deviation about the mean for the \"High Rise\" feature using\n",
        "########## CODE HERE ##########\n",
        "\n",
        "df['High Rise'].mad()\n"
      ]
    },
    {
      "cell_type": "code",
      "execution_count": 27,
      "id": "d6584f9f",
      "metadata": {
        "id": "d6584f9f"
      },
      "outputs": [
        {
          "data": {
            "text/plain": [
              "np.float64(28.071578947368415)"
            ]
          },
          "execution_count": 27,
          "metadata": {},
          "output_type": "execute_result"
        }
      ],
      "source": [
        "# Calculate the variance for the \"High Rise\" feature using \".var()\"\n",
        "########## CODE HERE ##########\n",
        "\n",
        "df['High Rise'].var()\n"
      ]
    },
    {
      "cell_type": "code",
      "execution_count": 28,
      "id": "b79aee63",
      "metadata": {
        "id": "b79aee63"
      },
      "outputs": [
        {
          "data": {
            "text/plain": [
              "np.float64(5.298261879840257)"
            ]
          },
          "execution_count": 28,
          "metadata": {},
          "output_type": "execute_result"
        }
      ],
      "source": [
        "# Calculate the standard deviation for the \"High Rise\" feature using \".std()\"\n",
        "########## CODE HERE ##########\n",
        "\n",
        "df['High Rise'].std()\n"
      ]
    },
    {
      "cell_type": "code",
      "execution_count": 29,
      "id": "6c7ef6a0",
      "metadata": {
        "id": "6c7ef6a0"
      },
      "outputs": [
        {
          "data": {
            "image/png": "[encoded data removed]",
            "text/plain": [
              "<Figure size 1200x400 with 3 Axes>"
            ]
          },
          "metadata": {},
          "output_type": "display_data"
        }
      ],
      "source": [
        "# Create a figure with all the relevant plots\n",
        "plt.figure(figsize = (12, 4))\n",
        "\n",
        "plt.subplot(1, 3, 1)\n",
        "sns.histplot(data = df, x = 'George and Wallace', color = 'orange', edgecolor = 'linen', alpha = 0.5, bins = 5)\n",
        "plt.vlines(x = df['George and Wallace'].mean(), ymin = 0, ymax = 6, colors = 'blue', label = 'Mean')\n",
        "plt.vlines(x = df['George and Wallace'].median(), ymin = 0, ymax = 6, colors = 'red', label = 'Median')\n",
        "plt.xlim(-20, 20)\n",
        "plt.title('George and Wallace')\n",
        "plt.xlabel('Percent Return in Investment')\n",
        "plt.ylabel('Count')\n",
        "\n",
        "plt.subplot(1, 3, 2)\n",
        "sns.histplot(data = df, x = 'Imperial Traders', color = 'orange', edgecolor = 'linen', alpha = 0.5, bins = 5)\n",
        "plt.vlines(x = df['Imperial Traders'].mean(), ymin = 0, ymax = 9, colors = 'blue', label = 'Mean')\n",
        "plt.vlines(x = df['Imperial Traders'].median(), ymin = 0, ymax = 9, colors = 'red', label = 'Median')\n",
        "plt.xlim(-20, 20)\n",
        "plt.title('Imperial Traders')\n",
        "plt.xlabel('Percent Return in Investment')\n",
        "plt.ylabel('Count')\n",
        "\n",
        "plt.subplot(1, 3, 3)\n",
        "sns.histplot(data = df, x = 'High Rise', color = 'orange', edgecolor = 'linen', alpha = 0.5, bins = 5)\n",
        "plt.vlines(x = df['High Rise'].mean(), ymin = 0, ymax = 10, colors = 'blue', label = 'Mean')\n",
        "plt.vlines(x = df['High Rise'].median(), ymin = 0, ymax = 10, colors = 'red', label = 'Median')\n",
        "plt.xlim(-20, 20)\n",
        "plt.title('High Rise')\n",
        "plt.xlabel('Percent Return in Investment')\n",
        "plt.ylabel('Count')\n",
        "\n",
        "plt.legend(loc = (1.05, 0.85))\n",
        "\n",
        "plt.tight_layout();"
      ]
    },
    {
      "cell_type": "code",
      "execution_count": null,
      "id": "39ad5575",
      "metadata": {
        "id": "39ad5575"
      },
      "outputs": [],
      "source": [
        "# Observations\n",
        "\n",
        "# The mean investment return percentage of all three agencies is 4 %\n",
        "\n",
        "# The median investment return percentages for the three agencies are as follows:\n",
        "# George and Wallace = 5.45 %\n",
        "# Imperial Traders = 7.65 %\n",
        "# High Rise = 6.55 %\n",
        "\n",
        "# We can use many different measures of dispersion or variability to get a sense of how stable a certain investment is\n",
        "# The standard deviations for the three agencies are as follows:\n",
        "# George and Wallace = 9.49 %\n",
        "# Imperial Traders = 7.98 %\n",
        "# High Rise = 5.3 %\n",
        "\n",
        "# Since the central tendencies of the three different agencies are similar, we can use variability as a measure of stability"
      ]
    },
    {
      "cell_type": "code",
      "execution_count": null,
      "id": "ebe2af63",
      "metadata": {
        "id": "ebe2af63"
      },
      "outputs": [],
      "source": [
        "###########################################################################"
      ]
    },
    {
      "cell_type": "code",
      "execution_count": null,
      "id": "e9ea46e7",
      "metadata": {
        "id": "e9ea46e7"
      },
      "outputs": [],
      "source": [
        "# Task 3 - Create a data frame to compare the variability in the investment returns of the different agencies\n",
        "\n",
        "# We will now compile all the relevant statistical measures for the three agencies into one data frame\n",
        "# We will then assess which agency to invest in based on returns and stability"
      ]
    },
    {
      "cell_type": "code",
      "execution_count": null,
      "id": "e53a6e5c",
      "metadata": {
        "id": "e53a6e5c"
      },
      "outputs": [],
      "source": [
        "# Create a data frame to compare the mean, median and variations for the three companies and store it as \"variations\"\n",
        "# Note: Create three different temporary Pandas Series to store the details for the three different agencies\n",
        "# Note: The \"index\" parameter for these series can be set to \"['Mean', 'Median', 'Range', 'MAD', 'Variance', 'SD']\"\n",
        "# Note: The \"data\" parameter of the three series needs to be a list of the relevant values\n",
        "# Note: The same index needs to be used for the \"index\" parameter of the final data frame \"variations\"\n",
        "# Note: The \"data\" parameter of the data frame \"variations\" needs to be passed in as a dictionary\n",
        "########## CODE HERE ##########"
      ]
    },
    {
      "cell_type": "code",
      "execution_count": null,
      "id": "cf8ca32c",
      "metadata": {
        "id": "cf8ca32c"
      },
      "outputs": [],
      "source": [
        "# View the \"variations\" data frame\n",
        "########## CODE HERE ##########"
      ]
    },
    {
      "cell_type": "code",
      "execution_count": null,
      "id": "718e3ad3",
      "metadata": {
        "id": "718e3ad3"
      },
      "outputs": [],
      "source": [
        "# Observations\n",
        "\n",
        "# The mean investment returns for the three agencies are equal to 4 %\n",
        "# The median investment return percentage for \"George and Wallace\" is the lowest at 5.45 %\n",
        "# The median investment return percentage for \"Imperial Traders\" is the highest at 7.65 %\n",
        "# The lowest variability in investment returns is shown by \"High Rise\" at 5.3 % standard deviation\n",
        "# The highest variablitiy in investment returns is shown by \"George and Wallace\" at 7.98 % standard deviation\n",
        "\n",
        "# Since \"George and Wallace\" has the least median investment return percentage and the highest variability, it can be rejected\n",
        "# The agency \"Imperial Traders\" offers a slightly higher median percentage with a higher variability than \"High Rise\"\n",
        "# The difference in the median percentages of \"Imperial Traders\" and \"High Rise\" is about 1 %\n",
        "# The difference in their standard deviation values is about 2.5 %\n",
        "\n",
        "# As an investor, stability is quite important for longer periods of investment\n",
        "# Keeping this in mind, we could recommend investing in the agency \"High Rise\""
      ]
    },
    {
      "cell_type": "code",
      "execution_count": null,
      "id": "5e533437",
      "metadata": {
        "id": "5e533437"
      },
      "outputs": [],
      "source": [
        "###########################################################################"
      ]
    },
    {
      "cell_type": "code",
      "execution_count": null,
      "id": "1589123c",
      "metadata": {
        "id": "1589123c"
      },
      "outputs": [],
      "source": [
        "# Conclusions\n",
        "\n",
        "# From the given data, we can use simple visualisations to get a sense of how data are distributed\n",
        "# We can use central tendency measures such as the mean and the median to get a sense of the representative value for a group\n",
        "# We can use various measures of variability such as range, mean absolute deviation and standard deviation\n",
        "# These measures help us get a sense of how variable or how stable a group of data is\n",
        "# By looking at these different statistical measures, we can make informed real world decisions"
      ]
    },
    {
      "cell_type": "code",
      "execution_count": null,
      "id": "df1f7600",
      "metadata": {
        "id": "df1f7600"
      },
      "outputs": [],
      "source": [
        "###########################################################################"
      ]
    }
  ],
  "metadata": {
    "colab": {
      "provenance": []
    },
    "kernelspec": {
      "display_name": "Python 3",
      "language": "python",
      "name": "python3"
    },
    "language_info": {
      "codemirror_mode": {
        "name": "ipython",
        "version": 3
      },
      "file_extension": ".py",
      "mimetype": "text/x-python",
      "name": "python",
      "nbconvert_exporter": "python",
      "pygments_lexer": "ipython3",
      "version": "3.13.4"
    }
  },
  "nbformat": 4,
  "nbformat_minor": 5
}
